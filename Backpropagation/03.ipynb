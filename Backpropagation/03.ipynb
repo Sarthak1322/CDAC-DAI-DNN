{
 "cells": [
  {
   "cell_type": "code",
   "execution_count": 1,
   "id": "8526297e",
   "metadata": {},
   "outputs": [],
   "source": [
    "# Classification Example "
   ]
  },
  {
   "cell_type": "code",
   "execution_count": 2,
   "id": "336cd5c5",
   "metadata": {},
   "outputs": [],
   "source": [
    "import numpy as np\n",
    "import pandas as pd"
   ]
  },
  {
   "cell_type": "code",
   "execution_count": 3,
   "id": "86b7e4c9",
   "metadata": {},
   "outputs": [],
   "source": [
    "df = pd.DataFrame([[8,8,4],[7,9,5],[6,10,6],[5,12,7]] , columns=['cgpa', 'profile_score', 'lpa'])\n"
   ]
  },
  {
   "cell_type": "code",
   "execution_count": 4,
   "id": "afaf7872",
   "metadata": {},
   "outputs": [
    {
     "data": {
      "text/html": [
       "<div>\n",
       "<style scoped>\n",
       "    .dataframe tbody tr th:only-of-type {\n",
       "        vertical-align: middle;\n",
       "    }\n",
       "\n",
       "    .dataframe tbody tr th {\n",
       "        vertical-align: top;\n",
       "    }\n",
       "\n",
       "    .dataframe thead th {\n",
       "        text-align: right;\n",
       "    }\n",
       "</style>\n",
       "<table border=\"1\" class=\"dataframe\">\n",
       "  <thead>\n",
       "    <tr style=\"text-align: right;\">\n",
       "      <th></th>\n",
       "      <th>cgpa</th>\n",
       "      <th>profile_score</th>\n",
       "      <th>lpa</th>\n",
       "    </tr>\n",
       "  </thead>\n",
       "  <tbody>\n",
       "    <tr>\n",
       "      <th>0</th>\n",
       "      <td>8</td>\n",
       "      <td>8</td>\n",
       "      <td>4</td>\n",
       "    </tr>\n",
       "    <tr>\n",
       "      <th>1</th>\n",
       "      <td>7</td>\n",
       "      <td>9</td>\n",
       "      <td>5</td>\n",
       "    </tr>\n",
       "    <tr>\n",
       "      <th>2</th>\n",
       "      <td>6</td>\n",
       "      <td>10</td>\n",
       "      <td>6</td>\n",
       "    </tr>\n",
       "    <tr>\n",
       "      <th>3</th>\n",
       "      <td>5</td>\n",
       "      <td>12</td>\n",
       "      <td>7</td>\n",
       "    </tr>\n",
       "  </tbody>\n",
       "</table>\n",
       "</div>"
      ],
      "text/plain": [
       "   cgpa  profile_score  lpa\n",
       "0     8              8    4\n",
       "1     7              9    5\n",
       "2     6             10    6\n",
       "3     5             12    7"
      ]
     },
     "execution_count": 4,
     "metadata": {},
     "output_type": "execute_result"
    }
   ],
   "source": [
    "df"
   ]
  },
  {
   "cell_type": "code",
   "execution_count": 5,
   "id": "4636b29a",
   "metadata": {},
   "outputs": [],
   "source": [
    "def initialize_parameters(layer_dims):\n",
    "    np.random.seed(3)\n",
    "    parameters = {}\n",
    "    L = len(layer_dims)  \n",
    "    \n",
    "    for l in range(1, L):\n",
    "        parameters['W' + str(l)] = np.ones((layer_dims[l-1], layer_dims[l]))*0.1\n",
    "        parameters['b' + str(l)] = np.zeros((layer_dims[l], 1))\n",
    "        \n",
    "    return parameters          # number of layers in the neural network\n"
   ]
  },
  {
   "cell_type": "code",
   "execution_count": 6,
   "id": "775319ad",
   "metadata": {},
   "outputs": [],
   "source": [
    "# Utility function\n",
    "\n",
    "def sigmoid(Z):\n",
    "    A = 1/(1+np.exp(-Z))\n",
    "    \n",
    "    return A"
   ]
  },
  {
   "cell_type": "code",
   "execution_count": 7,
   "id": "59ae8e01",
   "metadata": {},
   "outputs": [
    {
     "data": {
      "text/plain": [
       "{'W1': array([[0.1, 0.1],\n",
       "        [0.1, 0.1]]),\n",
       " 'b1': array([[0.],\n",
       "        [0.]]),\n",
       " 'W2': array([[0.1],\n",
       "        [0.1]]),\n",
       " 'b2': array([[0.]])}"
      ]
     },
     "execution_count": 7,
     "metadata": {},
     "output_type": "execute_result"
    }
   ],
   "source": [
    "initialize_parameters([2,2,1])"
   ]
  },
  {
   "cell_type": "code",
   "execution_count": 8,
   "id": "f60d8c41",
   "metadata": {},
   "outputs": [],
   "source": [
    "def linear_forward(A_prev, W, b):\n",
    "    Z = np.dot(W.T , A_prev) + b\n",
    "\n",
    "    A = sigmoid(Z)\n",
    "    \n",
    "    return Z"
   ]
  },
  {
   "cell_type": "code",
   "execution_count": 9,
   "id": "fcb63746",
   "metadata": {},
   "outputs": [],
   "source": [
    "# Forward Propagation\n",
    "\n",
    "def L_layer_forward(X, parameters):\n",
    "    A = X\n",
    "    L = len(parameters) // 2 # number of layers in the neural network\n",
    "    \n",
    "    \n",
    "    for l in range(1, L + 1):\n",
    "        A_prev = A \n",
    "        W1 = parameters['W' + str(l)]\n",
    "        b1 = parameters['b' + str(l)]\n",
    "\n",
    "        # print(\"A\"+str(l-1)+\": \", A_prev)\n",
    "        # print(\"W\"+str(l)+\": \", W1)\n",
    "        # print(\"b\"+str(l)+\": \", b1)\n",
    "        # print(\"--\"*20)\n",
    "        \n",
    "        A = linear_forward(A_prev, W1, b1)\n",
    "        # print(\"A\"+str(l)+\": \", A)\n",
    "        # print(\"**\"*20)\n",
    "        \n",
    "        \n",
    "        \n",
    "    return A, A_prev"
   ]
  },
  {
   "cell_type": "code",
   "execution_count": 10,
   "id": "f7bdda6a",
   "metadata": {},
   "outputs": [],
   "source": [
    "X = df[['cgpa', 'profile_score']].values[0].reshape(2,1)\n",
    "y = df[['lpa']].values[0][0]\n",
    "\n",
    "# Parameter initialization\n",
    "parameters = initialize_parameters([2, 2, 1])\n",
    "\n",
    "y_hat,A1 = L_layer_forward(X, parameters)"
   ]
  },
  {
   "cell_type": "code",
   "execution_count": 11,
   "id": "24ce1dc5",
   "metadata": {},
   "outputs": [
    {
     "data": {
      "text/plain": [
       "array([[0.32]])"
      ]
     },
     "execution_count": 11,
     "metadata": {},
     "output_type": "execute_result"
    }
   ],
   "source": [
    "y_hat"
   ]
  },
  {
   "cell_type": "code",
   "execution_count": 12,
   "id": "df72c570",
   "metadata": {},
   "outputs": [
    {
     "data": {
      "text/plain": [
       "array([[1.6],\n",
       "       [1.6]])"
      ]
     },
     "execution_count": 12,
     "metadata": {},
     "output_type": "execute_result"
    }
   ],
   "source": [
    "A1"
   ]
  },
  {
   "cell_type": "code",
   "execution_count": 13,
   "id": "5b2455ec",
   "metadata": {},
   "outputs": [],
   "source": [
    "y_hat = y_hat[0][0]"
   ]
  },
  {
   "cell_type": "code",
   "execution_count": 14,
   "id": "9891c783",
   "metadata": {},
   "outputs": [
    {
     "data": {
      "text/plain": [
       "13.5424"
      ]
     },
     "execution_count": 14,
     "metadata": {},
     "output_type": "execute_result"
    }
   ],
   "source": [
    "(y - 0.32)**2"
   ]
  },
  {
   "cell_type": "code",
   "execution_count": 15,
   "id": "6ce4c621",
   "metadata": {},
   "outputs": [],
   "source": [
    "def update_parameters(parameters,y,y_hat,A1,X):\n",
    "  parameters['W2'][0][0] = parameters['W2'][0][0] + (0.001 *  (y - y_hat)*A1[0][0])\n",
    "  parameters['W2'][1][0] = parameters['W2'][1][0] + (0.001 * (y - y_hat)*A1[1][0])\n",
    "  parameters['b2'][0][0] = parameters['W2'][1][0] + (0.001 * (y - y_hat))\n",
    "\n",
    "  parameters['W1'][0][0] = parameters['W1'][0][0] + (0.001 * (y - y_hat)*parameters['W2'][0][0]*X[0][0])\n",
    "  parameters['W1'][0][1] = parameters['W1'][0][1] + (0.001 * (y - y_hat)*parameters['W2'][0][0]*X[1][0])\n",
    "  parameters['b1'][0][0] = parameters['b1'][0][0] + (0.001 * (y - y_hat)*parameters['W2'][0][0])\n",
    "\n",
    "  parameters['W1'][1][0] = parameters['W1'][1][0] + (0.001 * (y - y_hat)*parameters['W2'][1][0]*X[0][0])\n",
    "  parameters['W1'][1][1] = parameters['W1'][1][1] + (0.001 * (y - y_hat)*parameters['W2'][1][0]*X[1][0])\n",
    "  parameters['b1'][1][0] = parameters['b1'][1][0] + (0.001 * (y - y_hat)*parameters['W2'][1][0])"
   ]
  },
  {
   "cell_type": "code",
   "execution_count": 16,
   "id": "74097514",
   "metadata": {},
   "outputs": [],
   "source": [
    "update_parameters(parameters,y,y_hat,A1,X)"
   ]
  },
  {
   "cell_type": "code",
   "execution_count": 17,
   "id": "1490eb57",
   "metadata": {},
   "outputs": [
    {
     "data": {
      "text/plain": [
       "{'W1': array([[0.10311734, 0.10311734],\n",
       "        [0.10311734, 0.10311734]]),\n",
       " 'b1': array([[0.00038967],\n",
       "        [0.00038967]]),\n",
       " 'W2': array([[0.105888],\n",
       "        [0.105888]]),\n",
       " 'b2': array([[0.109568]])}"
      ]
     },
     "execution_count": 17,
     "metadata": {},
     "output_type": "execute_result"
    }
   ],
   "source": [
    "parameters"
   ]
  },
  {
   "cell_type": "code",
   "execution_count": 18,
   "id": "558c2085",
   "metadata": {},
   "outputs": [
    {
     "name": "stdout",
     "output_type": "stream",
     "text": [
      "Loss for this student - 3.400749690317504\n"
     ]
    },
    {
     "data": {
      "text/plain": [
       "{'W1': array([[0.10311734, 0.10311734],\n",
       "        [0.10311734, 0.10311734]]),\n",
       " 'b1': array([[0.00038967],\n",
       "        [0.00038967]]),\n",
       " 'W2': array([[0.105888],\n",
       "        [0.105888]]),\n",
       " 'b2': array([[0.109568]])}"
      ]
     },
     "execution_count": 18,
     "metadata": {},
     "output_type": "execute_result"
    }
   ],
   "source": [
    "X = df[['cgpa', 'profile_score']].values[0].reshape(2,1) # Shape(no of features, no. of training example)\n",
    "y = df[['lpa']].values[0][0]\n",
    "\n",
    "# Parameter initialization\n",
    "parameters = initialize_parameters([2,2,1])\n",
    "\n",
    "y_hat,A1 = L_layer_forward(X,parameters)\n",
    "y_hat = y_hat[0][0]\n",
    "\n",
    "update_parameters(parameters,y,y_hat,A1,X)\n",
    "\n",
    "print('Loss for this student -' , -y*np.log(y_hat) - (1-y)*np.log(1-y_hat))\n",
    "\n",
    "parameters"
   ]
  },
  {
   "cell_type": "code",
   "execution_count": 19,
   "id": "0ef8577c",
   "metadata": {},
   "outputs": [
    {
     "name": "stdout",
     "output_type": "stream",
     "text": [
      "Loss for this student - 1.4351760107692337\n"
     ]
    },
    {
     "data": {
      "text/plain": [
       "{'W1': array([[0.10672137, 0.10775109],\n",
       "        [0.10672137, 0.10775109]]),\n",
       " 'b1': array([[0.00090453],\n",
       "        [0.00090453]]),\n",
       " 'W2': array([[0.11338177],\n",
       "        [0.11338177]]),\n",
       " 'b2': array([[0.11792272]])}"
      ]
     },
     "execution_count": 19,
     "metadata": {},
     "output_type": "execute_result"
    }
   ],
   "source": [
    "X = df[['cgpa', 'profile_score']].values[1].reshape(2,1) # Shape(no of features, no. of training exaplme)\n",
    "y = df[['lpa']].values[1][0]\n",
    "\n",
    "y_hat,A1 = L_layer_forward(X,parameters)\n",
    "y_hat = y_hat[0][0]\n",
    "\n",
    "update_parameters(parameters,y,y_hat,A1,X)\n",
    "print('Loss for this student -' , -y*np.log(y_hat) - (1-y)*np.log(1-y_hat))\n",
    "\n",
    "\n",
    "parameters"
   ]
  },
  {
   "cell_type": "code",
   "execution_count": 20,
   "id": "19c8e8e6",
   "metadata": {},
   "outputs": [
    {
     "name": "stdout",
     "output_type": "stream",
     "text": [
      "Loss for this student - 0.5347498453251993\n"
     ]
    },
    {
     "data": {
      "text/plain": [
       "{'W1': array([[0.11076733, 0.11449437],\n",
       "        [0.11077032, 0.11449934]]),\n",
       " 'b1': array([[0.00157886],\n",
       "        [0.00157935]]),\n",
       " 'W2': array([[0.12276592],\n",
       "        [0.12285642]]),\n",
       " 'b2': array([[0.12834921]])}"
      ]
     },
     "execution_count": 20,
     "metadata": {},
     "output_type": "execute_result"
    }
   ],
   "source": [
    "X = df[['cgpa', 'profile_score']].values[2].reshape(2,1) # Shape(no of features, no. of training exaplme)\n",
    "y = df[['lpa']].values[2][0]\n",
    "\n",
    "y_hat,A1 = L_layer_forward(X,parameters)\n",
    "y_hat = y_hat[0][0]\n",
    "\n",
    "update_parameters(parameters,y,y_hat,A1,X)\n",
    "print('Loss for this student -' , -y*np.log(y_hat) - (1-y)*np.log(1-y_hat))\n",
    "\n",
    "\n",
    "parameters"
   ]
  },
  {
   "cell_type": "code",
   "execution_count": 21,
   "id": "373bf86f",
   "metadata": {},
   "outputs": [
    {
     "data": {
      "text/plain": [
       "{'W1': array([[0.11508252, 0.12485081],\n",
       "        [0.11510138, 0.1248939 ]]),\n",
       " 'b1': array([[0.00244189],\n",
       "        [0.00244557]]),\n",
       " 'W2': array([[0.13482953],\n",
       "        [0.13532574]]),\n",
       " 'b2': array([[0.14172669]])}"
      ]
     },
     "execution_count": 21,
     "metadata": {},
     "output_type": "execute_result"
    }
   ],
   "source": [
    "X = df[['cgpa', 'profile_score']].values[3].reshape(2,1) # Shape(no of features, no. of training exaplme)\n",
    "y = df[['lpa']].values[3][0]\n",
    "\n",
    "y_hat,A1 = L_layer_forward(X,parameters)\n",
    "y_hat = y_hat[0][0]\n",
    "\n",
    "update_parameters(parameters,y,y_hat,A1,X)\n",
    "\n",
    "parameters"
   ]
  },
  {
   "cell_type": "code",
   "execution_count": 22,
   "id": "241d648b",
   "metadata": {},
   "outputs": [],
   "source": [
    "# this upper think we have to multiple time "
   ]
  },
  {
   "cell_type": "code",
   "execution_count": 23,
   "id": "2d302a6b",
   "metadata": {},
   "outputs": [],
   "source": [
    "# so lets create a function for it"
   ]
  },
  {
   "cell_type": "code",
   "execution_count": 24,
   "id": "fed62ebb",
   "metadata": {},
   "outputs": [
    {
     "name": "stdout",
     "output_type": "stream",
     "text": [
      "Epoch -  1 Loss -  0.8685038638058465\n",
      "Epoch -  2 Loss -  -6.137831637115123\n",
      "Epoch -  3 Loss -  nan\n",
      "Epoch -  4 Loss -  nan\n",
      "Epoch -  5 Loss -  nan\n",
      "Epoch -  6 Loss -  nan\n",
      "Epoch -  7 Loss -  nan\n",
      "Epoch -  8 Loss -  nan\n",
      "Epoch -  9 Loss -  nan\n",
      "Epoch -  10 Loss -  nan\n",
      "Epoch -  11 Loss -  nan\n",
      "Epoch -  12 Loss -  nan\n",
      "Epoch -  13 Loss -  nan\n",
      "Epoch -  14 Loss -  nan\n",
      "Epoch -  15 Loss -  nan\n",
      "Epoch -  16 Loss -  nan\n"
     ]
    },
    {
     "name": "stderr",
     "output_type": "stream",
     "text": [
      "/tmp/ipykernel_42850/3350479766.py:23: RuntimeWarning: invalid value encountered in log\n",
      "  Loss.append(-y*np.log(y_hat) - (1-y)*np.log(1-y_hat))\n",
      "/tmp/ipykernel_42850/3350479766.py:23: RuntimeWarning: invalid value encountered in log\n",
      "  Loss.append(-y*np.log(y_hat) - (1-y)*np.log(1-y_hat))\n",
      "/tmp/ipykernel_42850/3350479766.py:23: RuntimeWarning: invalid value encountered in log\n",
      "  Loss.append(-y*np.log(y_hat) - (1-y)*np.log(1-y_hat))\n",
      "/tmp/ipykernel_42850/3350479766.py:23: RuntimeWarning: invalid value encountered in log\n",
      "  Loss.append(-y*np.log(y_hat) - (1-y)*np.log(1-y_hat))\n",
      "/tmp/ipykernel_42850/3350479766.py:23: RuntimeWarning: invalid value encountered in log\n",
      "  Loss.append(-y*np.log(y_hat) - (1-y)*np.log(1-y_hat))\n",
      "/tmp/ipykernel_42850/3350479766.py:23: RuntimeWarning: invalid value encountered in log\n",
      "  Loss.append(-y*np.log(y_hat) - (1-y)*np.log(1-y_hat))\n",
      "/tmp/ipykernel_42850/3350479766.py:23: RuntimeWarning: invalid value encountered in log\n",
      "  Loss.append(-y*np.log(y_hat) - (1-y)*np.log(1-y_hat))\n",
      "/tmp/ipykernel_42850/3350479766.py:23: RuntimeWarning: invalid value encountered in log\n",
      "  Loss.append(-y*np.log(y_hat) - (1-y)*np.log(1-y_hat))\n",
      "/tmp/ipykernel_42850/3350479766.py:23: RuntimeWarning: invalid value encountered in log\n",
      "  Loss.append(-y*np.log(y_hat) - (1-y)*np.log(1-y_hat))\n",
      "/tmp/ipykernel_42850/3350479766.py:23: RuntimeWarning: invalid value encountered in log\n",
      "  Loss.append(-y*np.log(y_hat) - (1-y)*np.log(1-y_hat))\n",
      "/tmp/ipykernel_42850/3350479766.py:23: RuntimeWarning: invalid value encountered in log\n",
      "  Loss.append(-y*np.log(y_hat) - (1-y)*np.log(1-y_hat))\n",
      "/tmp/ipykernel_42850/3350479766.py:23: RuntimeWarning: invalid value encountered in log\n",
      "  Loss.append(-y*np.log(y_hat) - (1-y)*np.log(1-y_hat))\n",
      "/tmp/ipykernel_42850/3350479766.py:23: RuntimeWarning: invalid value encountered in log\n",
      "  Loss.append(-y*np.log(y_hat) - (1-y)*np.log(1-y_hat))\n",
      "/tmp/ipykernel_42850/3350479766.py:23: RuntimeWarning: invalid value encountered in log\n",
      "  Loss.append(-y*np.log(y_hat) - (1-y)*np.log(1-y_hat))\n",
      "/tmp/ipykernel_42850/3350479766.py:23: RuntimeWarning: invalid value encountered in log\n",
      "  Loss.append(-y*np.log(y_hat) - (1-y)*np.log(1-y_hat))\n",
      "/tmp/ipykernel_42850/3350479766.py:23: RuntimeWarning: invalid value encountered in log\n",
      "  Loss.append(-y*np.log(y_hat) - (1-y)*np.log(1-y_hat))\n",
      "/tmp/ipykernel_42850/3350479766.py:23: RuntimeWarning: invalid value encountered in log\n",
      "  Loss.append(-y*np.log(y_hat) - (1-y)*np.log(1-y_hat))\n",
      "/tmp/ipykernel_42850/3350479766.py:23: RuntimeWarning: invalid value encountered in log\n",
      "  Loss.append(-y*np.log(y_hat) - (1-y)*np.log(1-y_hat))\n",
      "/tmp/ipykernel_42850/3350479766.py:23: RuntimeWarning: invalid value encountered in log\n",
      "  Loss.append(-y*np.log(y_hat) - (1-y)*np.log(1-y_hat))\n",
      "/tmp/ipykernel_42850/3350479766.py:23: RuntimeWarning: invalid value encountered in log\n",
      "  Loss.append(-y*np.log(y_hat) - (1-y)*np.log(1-y_hat))\n",
      "/tmp/ipykernel_42850/3350479766.py:23: RuntimeWarning: invalid value encountered in log\n",
      "  Loss.append(-y*np.log(y_hat) - (1-y)*np.log(1-y_hat))\n",
      "/tmp/ipykernel_42850/3350479766.py:23: RuntimeWarning: invalid value encountered in log\n",
      "  Loss.append(-y*np.log(y_hat) - (1-y)*np.log(1-y_hat))\n",
      "/tmp/ipykernel_42850/3350479766.py:23: RuntimeWarning: invalid value encountered in log\n",
      "  Loss.append(-y*np.log(y_hat) - (1-y)*np.log(1-y_hat))\n",
      "/tmp/ipykernel_42850/3350479766.py:23: RuntimeWarning: invalid value encountered in log\n",
      "  Loss.append(-y*np.log(y_hat) - (1-y)*np.log(1-y_hat))\n",
      "/tmp/ipykernel_42850/3350479766.py:23: RuntimeWarning: invalid value encountered in log\n",
      "  Loss.append(-y*np.log(y_hat) - (1-y)*np.log(1-y_hat))\n",
      "/tmp/ipykernel_42850/3350479766.py:23: RuntimeWarning: invalid value encountered in log\n",
      "  Loss.append(-y*np.log(y_hat) - (1-y)*np.log(1-y_hat))\n",
      "/tmp/ipykernel_42850/3350479766.py:23: RuntimeWarning: invalid value encountered in log\n",
      "  Loss.append(-y*np.log(y_hat) - (1-y)*np.log(1-y_hat))\n",
      "/tmp/ipykernel_42850/3350479766.py:23: RuntimeWarning: invalid value encountered in log\n",
      "  Loss.append(-y*np.log(y_hat) - (1-y)*np.log(1-y_hat))\n",
      "/tmp/ipykernel_42850/3350479766.py:23: RuntimeWarning: invalid value encountered in log\n",
      "  Loss.append(-y*np.log(y_hat) - (1-y)*np.log(1-y_hat))\n",
      "/tmp/ipykernel_42850/3350479766.py:23: RuntimeWarning: invalid value encountered in log\n",
      "  Loss.append(-y*np.log(y_hat) - (1-y)*np.log(1-y_hat))\n",
      "/tmp/ipykernel_42850/3350479766.py:23: RuntimeWarning: invalid value encountered in log\n",
      "  Loss.append(-y*np.log(y_hat) - (1-y)*np.log(1-y_hat))\n",
      "/tmp/ipykernel_42850/3350479766.py:23: RuntimeWarning: invalid value encountered in log\n",
      "  Loss.append(-y*np.log(y_hat) - (1-y)*np.log(1-y_hat))\n",
      "/tmp/ipykernel_42850/3350479766.py:23: RuntimeWarning: invalid value encountered in log\n",
      "  Loss.append(-y*np.log(y_hat) - (1-y)*np.log(1-y_hat))\n",
      "/tmp/ipykernel_42850/3350479766.py:23: RuntimeWarning: invalid value encountered in log\n",
      "  Loss.append(-y*np.log(y_hat) - (1-y)*np.log(1-y_hat))\n",
      "/tmp/ipykernel_42850/3350479766.py:23: RuntimeWarning: invalid value encountered in log\n",
      "  Loss.append(-y*np.log(y_hat) - (1-y)*np.log(1-y_hat))\n",
      "/tmp/ipykernel_42850/3350479766.py:23: RuntimeWarning: invalid value encountered in log\n",
      "  Loss.append(-y*np.log(y_hat) - (1-y)*np.log(1-y_hat))\n",
      "/tmp/ipykernel_42850/3350479766.py:23: RuntimeWarning: invalid value encountered in log\n",
      "  Loss.append(-y*np.log(y_hat) - (1-y)*np.log(1-y_hat))\n",
      "/tmp/ipykernel_42850/3350479766.py:23: RuntimeWarning: invalid value encountered in log\n",
      "  Loss.append(-y*np.log(y_hat) - (1-y)*np.log(1-y_hat))\n",
      "/tmp/ipykernel_42850/3350479766.py:23: RuntimeWarning: invalid value encountered in log\n",
      "  Loss.append(-y*np.log(y_hat) - (1-y)*np.log(1-y_hat))\n",
      "/tmp/ipykernel_42850/3350479766.py:23: RuntimeWarning: invalid value encountered in log\n",
      "  Loss.append(-y*np.log(y_hat) - (1-y)*np.log(1-y_hat))\n",
      "/tmp/ipykernel_42850/3350479766.py:23: RuntimeWarning: invalid value encountered in log\n",
      "  Loss.append(-y*np.log(y_hat) - (1-y)*np.log(1-y_hat))\n",
      "/tmp/ipykernel_42850/3350479766.py:23: RuntimeWarning: invalid value encountered in log\n",
      "  Loss.append(-y*np.log(y_hat) - (1-y)*np.log(1-y_hat))\n",
      "/tmp/ipykernel_42850/3350479766.py:23: RuntimeWarning: invalid value encountered in log\n",
      "  Loss.append(-y*np.log(y_hat) - (1-y)*np.log(1-y_hat))\n",
      "/tmp/ipykernel_42850/3350479766.py:23: RuntimeWarning: invalid value encountered in log\n",
      "  Loss.append(-y*np.log(y_hat) - (1-y)*np.log(1-y_hat))\n",
      "/tmp/ipykernel_42850/3350479766.py:23: RuntimeWarning: invalid value encountered in log\n",
      "  Loss.append(-y*np.log(y_hat) - (1-y)*np.log(1-y_hat))\n",
      "/tmp/ipykernel_42850/3350479766.py:23: RuntimeWarning: invalid value encountered in log\n",
      "  Loss.append(-y*np.log(y_hat) - (1-y)*np.log(1-y_hat))\n",
      "/tmp/ipykernel_42850/3350479766.py:23: RuntimeWarning: invalid value encountered in log\n",
      "  Loss.append(-y*np.log(y_hat) - (1-y)*np.log(1-y_hat))\n",
      "/tmp/ipykernel_42850/3350479766.py:23: RuntimeWarning: invalid value encountered in log\n",
      "  Loss.append(-y*np.log(y_hat) - (1-y)*np.log(1-y_hat))\n",
      "/tmp/ipykernel_42850/3350479766.py:23: RuntimeWarning: invalid value encountered in log\n",
      "  Loss.append(-y*np.log(y_hat) - (1-y)*np.log(1-y_hat))\n",
      "/tmp/ipykernel_42850/3350479766.py:23: RuntimeWarning: invalid value encountered in log\n",
      "  Loss.append(-y*np.log(y_hat) - (1-y)*np.log(1-y_hat))\n",
      "/tmp/ipykernel_42850/3350479766.py:23: RuntimeWarning: invalid value encountered in log\n",
      "  Loss.append(-y*np.log(y_hat) - (1-y)*np.log(1-y_hat))\n",
      "/tmp/ipykernel_42850/3350479766.py:23: RuntimeWarning: invalid value encountered in log\n",
      "  Loss.append(-y*np.log(y_hat) - (1-y)*np.log(1-y_hat))\n",
      "/tmp/ipykernel_42850/3350479766.py:23: RuntimeWarning: invalid value encountered in log\n",
      "  Loss.append(-y*np.log(y_hat) - (1-y)*np.log(1-y_hat))\n",
      "/tmp/ipykernel_42850/3350479766.py:23: RuntimeWarning: invalid value encountered in log\n",
      "  Loss.append(-y*np.log(y_hat) - (1-y)*np.log(1-y_hat))\n",
      "/tmp/ipykernel_42850/3350479766.py:23: RuntimeWarning: invalid value encountered in log\n",
      "  Loss.append(-y*np.log(y_hat) - (1-y)*np.log(1-y_hat))\n",
      "/tmp/ipykernel_42850/3350479766.py:23: RuntimeWarning: invalid value encountered in log\n",
      "  Loss.append(-y*np.log(y_hat) - (1-y)*np.log(1-y_hat))\n",
      "/tmp/ipykernel_42850/3350479766.py:23: RuntimeWarning: invalid value encountered in log\n",
      "  Loss.append(-y*np.log(y_hat) - (1-y)*np.log(1-y_hat))\n",
      "/tmp/ipykernel_42850/3350479766.py:23: RuntimeWarning: invalid value encountered in log\n",
      "  Loss.append(-y*np.log(y_hat) - (1-y)*np.log(1-y_hat))\n",
      "/tmp/ipykernel_42850/3350479766.py:23: RuntimeWarning: invalid value encountered in log\n",
      "  Loss.append(-y*np.log(y_hat) - (1-y)*np.log(1-y_hat))\n",
      "/tmp/ipykernel_42850/3350479766.py:23: RuntimeWarning: invalid value encountered in log\n",
      "  Loss.append(-y*np.log(y_hat) - (1-y)*np.log(1-y_hat))\n",
      "/tmp/ipykernel_42850/3350479766.py:23: RuntimeWarning: invalid value encountered in log\n",
      "  Loss.append(-y*np.log(y_hat) - (1-y)*np.log(1-y_hat))\n",
      "/tmp/ipykernel_42850/3350479766.py:23: RuntimeWarning: invalid value encountered in log\n",
      "  Loss.append(-y*np.log(y_hat) - (1-y)*np.log(1-y_hat))\n",
      "/tmp/ipykernel_42850/3350479766.py:23: RuntimeWarning: invalid value encountered in log\n",
      "  Loss.append(-y*np.log(y_hat) - (1-y)*np.log(1-y_hat))\n",
      "/tmp/ipykernel_42850/3350479766.py:23: RuntimeWarning: invalid value encountered in log\n",
      "  Loss.append(-y*np.log(y_hat) - (1-y)*np.log(1-y_hat))\n",
      "/tmp/ipykernel_42850/3350479766.py:23: RuntimeWarning: invalid value encountered in log\n",
      "  Loss.append(-y*np.log(y_hat) - (1-y)*np.log(1-y_hat))\n",
      "/tmp/ipykernel_42850/3350479766.py:23: RuntimeWarning: invalid value encountered in log\n",
      "  Loss.append(-y*np.log(y_hat) - (1-y)*np.log(1-y_hat))\n",
      "/tmp/ipykernel_42850/3350479766.py:23: RuntimeWarning: invalid value encountered in log\n",
      "  Loss.append(-y*np.log(y_hat) - (1-y)*np.log(1-y_hat))\n",
      "/tmp/ipykernel_42850/3350479766.py:23: RuntimeWarning: invalid value encountered in log\n",
      "  Loss.append(-y*np.log(y_hat) - (1-y)*np.log(1-y_hat))\n",
      "/tmp/ipykernel_42850/3350479766.py:23: RuntimeWarning: invalid value encountered in log\n",
      "  Loss.append(-y*np.log(y_hat) - (1-y)*np.log(1-y_hat))\n",
      "/tmp/ipykernel_42850/3350479766.py:23: RuntimeWarning: invalid value encountered in log\n",
      "  Loss.append(-y*np.log(y_hat) - (1-y)*np.log(1-y_hat))\n",
      "/tmp/ipykernel_42850/3350479766.py:23: RuntimeWarning: invalid value encountered in log\n",
      "  Loss.append(-y*np.log(y_hat) - (1-y)*np.log(1-y_hat))\n",
      "/tmp/ipykernel_42850/3350479766.py:23: RuntimeWarning: invalid value encountered in log\n",
      "  Loss.append(-y*np.log(y_hat) - (1-y)*np.log(1-y_hat))\n",
      "/tmp/ipykernel_42850/3350479766.py:23: RuntimeWarning: invalid value encountered in log\n",
      "  Loss.append(-y*np.log(y_hat) - (1-y)*np.log(1-y_hat))\n",
      "/tmp/ipykernel_42850/3350479766.py:23: RuntimeWarning: invalid value encountered in log\n",
      "  Loss.append(-y*np.log(y_hat) - (1-y)*np.log(1-y_hat))\n",
      "/tmp/ipykernel_42850/3350479766.py:23: RuntimeWarning: invalid value encountered in log\n",
      "  Loss.append(-y*np.log(y_hat) - (1-y)*np.log(1-y_hat))\n",
      "/tmp/ipykernel_42850/3350479766.py:23: RuntimeWarning: invalid value encountered in log\n",
      "  Loss.append(-y*np.log(y_hat) - (1-y)*np.log(1-y_hat))\n"
     ]
    },
    {
     "name": "stdout",
     "output_type": "stream",
     "text": [
      "Epoch -  17 Loss -  nan\n",
      "Epoch -  18 Loss -  nan\n",
      "Epoch -  19 Loss -  nan\n",
      "Epoch -  20 Loss -  nan\n",
      "Epoch -  21 Loss -  nan\n",
      "Epoch -  22 Loss -  nan\n",
      "Epoch -  23 Loss -  nan\n",
      "Epoch -  24 Loss -  nan\n",
      "Epoch -  25 Loss -  nan\n",
      "Epoch -  26 Loss -  nan\n",
      "Epoch -  27 Loss -  nan\n",
      "Epoch -  28 Loss -  nan\n",
      "Epoch -  29 Loss -  nan\n",
      "Epoch -  30 Loss -  nan\n",
      "Epoch -  31 Loss -  nan\n",
      "Epoch -  32 Loss -  nan\n",
      "Epoch -  33 Loss -  nan\n",
      "Epoch -  34 Loss -  nan\n",
      "Epoch -  35 Loss -  nan\n",
      "Epoch -  36 Loss -  nan\n",
      "Epoch -  37 Loss -  nan\n",
      "Epoch -  38 Loss -  nan\n",
      "Epoch -  39 Loss -  nan\n",
      "Epoch -  40 Loss -  nan\n"
     ]
    },
    {
     "name": "stderr",
     "output_type": "stream",
     "text": [
      "/tmp/ipykernel_42850/3350479766.py:23: RuntimeWarning: invalid value encountered in log\n",
      "  Loss.append(-y*np.log(y_hat) - (1-y)*np.log(1-y_hat))\n",
      "/tmp/ipykernel_42850/3350479766.py:23: RuntimeWarning: invalid value encountered in log\n",
      "  Loss.append(-y*np.log(y_hat) - (1-y)*np.log(1-y_hat))\n",
      "/tmp/ipykernel_42850/3350479766.py:23: RuntimeWarning: invalid value encountered in log\n",
      "  Loss.append(-y*np.log(y_hat) - (1-y)*np.log(1-y_hat))\n",
      "/tmp/ipykernel_42850/3350479766.py:23: RuntimeWarning: invalid value encountered in log\n",
      "  Loss.append(-y*np.log(y_hat) - (1-y)*np.log(1-y_hat))\n",
      "/tmp/ipykernel_42850/3350479766.py:23: RuntimeWarning: invalid value encountered in log\n",
      "  Loss.append(-y*np.log(y_hat) - (1-y)*np.log(1-y_hat))\n",
      "/tmp/ipykernel_42850/3350479766.py:23: RuntimeWarning: invalid value encountered in log\n",
      "  Loss.append(-y*np.log(y_hat) - (1-y)*np.log(1-y_hat))\n",
      "/tmp/ipykernel_42850/3350479766.py:23: RuntimeWarning: invalid value encountered in log\n",
      "  Loss.append(-y*np.log(y_hat) - (1-y)*np.log(1-y_hat))\n",
      "/tmp/ipykernel_42850/3350479766.py:23: RuntimeWarning: invalid value encountered in log\n",
      "  Loss.append(-y*np.log(y_hat) - (1-y)*np.log(1-y_hat))\n",
      "/tmp/ipykernel_42850/3350479766.py:23: RuntimeWarning: invalid value encountered in log\n",
      "  Loss.append(-y*np.log(y_hat) - (1-y)*np.log(1-y_hat))\n",
      "/tmp/ipykernel_42850/3350479766.py:23: RuntimeWarning: invalid value encountered in log\n",
      "  Loss.append(-y*np.log(y_hat) - (1-y)*np.log(1-y_hat))\n",
      "/tmp/ipykernel_42850/3350479766.py:23: RuntimeWarning: invalid value encountered in log\n",
      "  Loss.append(-y*np.log(y_hat) - (1-y)*np.log(1-y_hat))\n",
      "/tmp/ipykernel_42850/3350479766.py:23: RuntimeWarning: invalid value encountered in log\n",
      "  Loss.append(-y*np.log(y_hat) - (1-y)*np.log(1-y_hat))\n",
      "/tmp/ipykernel_42850/3350479766.py:23: RuntimeWarning: invalid value encountered in log\n",
      "  Loss.append(-y*np.log(y_hat) - (1-y)*np.log(1-y_hat))\n",
      "/tmp/ipykernel_42850/3350479766.py:23: RuntimeWarning: invalid value encountered in log\n",
      "  Loss.append(-y*np.log(y_hat) - (1-y)*np.log(1-y_hat))\n",
      "/tmp/ipykernel_42850/3350479766.py:23: RuntimeWarning: invalid value encountered in log\n",
      "  Loss.append(-y*np.log(y_hat) - (1-y)*np.log(1-y_hat))\n",
      "/tmp/ipykernel_42850/3350479766.py:23: RuntimeWarning: invalid value encountered in log\n",
      "  Loss.append(-y*np.log(y_hat) - (1-y)*np.log(1-y_hat))\n",
      "/tmp/ipykernel_42850/3350479766.py:23: RuntimeWarning: invalid value encountered in log\n",
      "  Loss.append(-y*np.log(y_hat) - (1-y)*np.log(1-y_hat))\n",
      "/tmp/ipykernel_42850/3350479766.py:23: RuntimeWarning: invalid value encountered in log\n",
      "  Loss.append(-y*np.log(y_hat) - (1-y)*np.log(1-y_hat))\n",
      "/tmp/ipykernel_42850/3350479766.py:23: RuntimeWarning: invalid value encountered in log\n",
      "  Loss.append(-y*np.log(y_hat) - (1-y)*np.log(1-y_hat))\n",
      "/tmp/ipykernel_42850/3350479766.py:23: RuntimeWarning: invalid value encountered in log\n",
      "  Loss.append(-y*np.log(y_hat) - (1-y)*np.log(1-y_hat))\n",
      "/tmp/ipykernel_42850/3350479766.py:23: RuntimeWarning: invalid value encountered in log\n",
      "  Loss.append(-y*np.log(y_hat) - (1-y)*np.log(1-y_hat))\n",
      "/tmp/ipykernel_42850/3350479766.py:23: RuntimeWarning: invalid value encountered in log\n",
      "  Loss.append(-y*np.log(y_hat) - (1-y)*np.log(1-y_hat))\n",
      "/tmp/ipykernel_42850/3350479766.py:23: RuntimeWarning: invalid value encountered in log\n",
      "  Loss.append(-y*np.log(y_hat) - (1-y)*np.log(1-y_hat))\n",
      "/tmp/ipykernel_42850/3350479766.py:23: RuntimeWarning: invalid value encountered in log\n",
      "  Loss.append(-y*np.log(y_hat) - (1-y)*np.log(1-y_hat))\n",
      "/tmp/ipykernel_42850/3350479766.py:23: RuntimeWarning: invalid value encountered in log\n",
      "  Loss.append(-y*np.log(y_hat) - (1-y)*np.log(1-y_hat))\n",
      "/tmp/ipykernel_42850/3350479766.py:23: RuntimeWarning: invalid value encountered in log\n",
      "  Loss.append(-y*np.log(y_hat) - (1-y)*np.log(1-y_hat))\n",
      "/tmp/ipykernel_42850/3350479766.py:23: RuntimeWarning: invalid value encountered in log\n",
      "  Loss.append(-y*np.log(y_hat) - (1-y)*np.log(1-y_hat))\n",
      "/tmp/ipykernel_42850/3350479766.py:23: RuntimeWarning: invalid value encountered in log\n",
      "  Loss.append(-y*np.log(y_hat) - (1-y)*np.log(1-y_hat))\n",
      "/tmp/ipykernel_42850/3350479766.py:23: RuntimeWarning: invalid value encountered in log\n",
      "  Loss.append(-y*np.log(y_hat) - (1-y)*np.log(1-y_hat))\n",
      "/tmp/ipykernel_42850/3350479766.py:23: RuntimeWarning: invalid value encountered in log\n",
      "  Loss.append(-y*np.log(y_hat) - (1-y)*np.log(1-y_hat))\n",
      "/tmp/ipykernel_42850/3350479766.py:23: RuntimeWarning: invalid value encountered in log\n",
      "  Loss.append(-y*np.log(y_hat) - (1-y)*np.log(1-y_hat))\n",
      "/tmp/ipykernel_42850/3350479766.py:23: RuntimeWarning: invalid value encountered in log\n",
      "  Loss.append(-y*np.log(y_hat) - (1-y)*np.log(1-y_hat))\n",
      "/tmp/ipykernel_42850/3350479766.py:23: RuntimeWarning: invalid value encountered in log\n",
      "  Loss.append(-y*np.log(y_hat) - (1-y)*np.log(1-y_hat))\n",
      "/tmp/ipykernel_42850/3350479766.py:23: RuntimeWarning: invalid value encountered in log\n",
      "  Loss.append(-y*np.log(y_hat) - (1-y)*np.log(1-y_hat))\n",
      "/tmp/ipykernel_42850/3350479766.py:23: RuntimeWarning: invalid value encountered in log\n",
      "  Loss.append(-y*np.log(y_hat) - (1-y)*np.log(1-y_hat))\n",
      "/tmp/ipykernel_42850/3350479766.py:23: RuntimeWarning: invalid value encountered in log\n",
      "  Loss.append(-y*np.log(y_hat) - (1-y)*np.log(1-y_hat))\n",
      "/tmp/ipykernel_42850/3350479766.py:23: RuntimeWarning: invalid value encountered in log\n",
      "  Loss.append(-y*np.log(y_hat) - (1-y)*np.log(1-y_hat))\n",
      "/tmp/ipykernel_42850/3350479766.py:23: RuntimeWarning: invalid value encountered in log\n",
      "  Loss.append(-y*np.log(y_hat) - (1-y)*np.log(1-y_hat))\n",
      "/tmp/ipykernel_42850/3350479766.py:23: RuntimeWarning: invalid value encountered in log\n",
      "  Loss.append(-y*np.log(y_hat) - (1-y)*np.log(1-y_hat))\n",
      "/tmp/ipykernel_42850/3350479766.py:23: RuntimeWarning: invalid value encountered in log\n",
      "  Loss.append(-y*np.log(y_hat) - (1-y)*np.log(1-y_hat))\n",
      "/tmp/ipykernel_42850/3350479766.py:23: RuntimeWarning: invalid value encountered in log\n",
      "  Loss.append(-y*np.log(y_hat) - (1-y)*np.log(1-y_hat))\n",
      "/tmp/ipykernel_42850/3350479766.py:23: RuntimeWarning: invalid value encountered in log\n",
      "  Loss.append(-y*np.log(y_hat) - (1-y)*np.log(1-y_hat))\n",
      "/tmp/ipykernel_42850/3350479766.py:23: RuntimeWarning: invalid value encountered in log\n",
      "  Loss.append(-y*np.log(y_hat) - (1-y)*np.log(1-y_hat))\n",
      "/tmp/ipykernel_42850/3350479766.py:23: RuntimeWarning: invalid value encountered in log\n",
      "  Loss.append(-y*np.log(y_hat) - (1-y)*np.log(1-y_hat))\n",
      "/tmp/ipykernel_42850/3350479766.py:23: RuntimeWarning: invalid value encountered in log\n",
      "  Loss.append(-y*np.log(y_hat) - (1-y)*np.log(1-y_hat))\n",
      "/tmp/ipykernel_42850/3350479766.py:23: RuntimeWarning: invalid value encountered in log\n",
      "  Loss.append(-y*np.log(y_hat) - (1-y)*np.log(1-y_hat))\n",
      "/tmp/ipykernel_42850/3350479766.py:23: RuntimeWarning: invalid value encountered in log\n",
      "  Loss.append(-y*np.log(y_hat) - (1-y)*np.log(1-y_hat))\n",
      "/tmp/ipykernel_42850/3350479766.py:23: RuntimeWarning: invalid value encountered in log\n",
      "  Loss.append(-y*np.log(y_hat) - (1-y)*np.log(1-y_hat))\n",
      "/tmp/ipykernel_42850/3350479766.py:23: RuntimeWarning: invalid value encountered in log\n",
      "  Loss.append(-y*np.log(y_hat) - (1-y)*np.log(1-y_hat))\n",
      "/tmp/ipykernel_42850/3350479766.py:23: RuntimeWarning: invalid value encountered in log\n",
      "  Loss.append(-y*np.log(y_hat) - (1-y)*np.log(1-y_hat))\n",
      "/tmp/ipykernel_42850/3350479766.py:23: RuntimeWarning: invalid value encountered in log\n",
      "  Loss.append(-y*np.log(y_hat) - (1-y)*np.log(1-y_hat))\n",
      "/tmp/ipykernel_42850/3350479766.py:23: RuntimeWarning: invalid value encountered in log\n",
      "  Loss.append(-y*np.log(y_hat) - (1-y)*np.log(1-y_hat))\n",
      "/tmp/ipykernel_42850/3350479766.py:23: RuntimeWarning: invalid value encountered in log\n",
      "  Loss.append(-y*np.log(y_hat) - (1-y)*np.log(1-y_hat))\n",
      "/tmp/ipykernel_42850/3350479766.py:23: RuntimeWarning: invalid value encountered in log\n",
      "  Loss.append(-y*np.log(y_hat) - (1-y)*np.log(1-y_hat))\n",
      "/tmp/ipykernel_42850/3350479766.py:23: RuntimeWarning: invalid value encountered in log\n",
      "  Loss.append(-y*np.log(y_hat) - (1-y)*np.log(1-y_hat))\n",
      "/tmp/ipykernel_42850/3350479766.py:23: RuntimeWarning: invalid value encountered in log\n",
      "  Loss.append(-y*np.log(y_hat) - (1-y)*np.log(1-y_hat))\n",
      "/tmp/ipykernel_42850/3350479766.py:23: RuntimeWarning: invalid value encountered in log\n",
      "  Loss.append(-y*np.log(y_hat) - (1-y)*np.log(1-y_hat))\n",
      "/tmp/ipykernel_42850/3350479766.py:23: RuntimeWarning: invalid value encountered in log\n",
      "  Loss.append(-y*np.log(y_hat) - (1-y)*np.log(1-y_hat))\n",
      "/tmp/ipykernel_42850/3350479766.py:23: RuntimeWarning: invalid value encountered in log\n",
      "  Loss.append(-y*np.log(y_hat) - (1-y)*np.log(1-y_hat))\n",
      "/tmp/ipykernel_42850/3350479766.py:23: RuntimeWarning: invalid value encountered in log\n",
      "  Loss.append(-y*np.log(y_hat) - (1-y)*np.log(1-y_hat))\n",
      "/tmp/ipykernel_42850/3350479766.py:23: RuntimeWarning: invalid value encountered in log\n",
      "  Loss.append(-y*np.log(y_hat) - (1-y)*np.log(1-y_hat))\n",
      "/tmp/ipykernel_42850/3350479766.py:23: RuntimeWarning: invalid value encountered in log\n",
      "  Loss.append(-y*np.log(y_hat) - (1-y)*np.log(1-y_hat))\n",
      "/tmp/ipykernel_42850/3350479766.py:23: RuntimeWarning: invalid value encountered in log\n",
      "  Loss.append(-y*np.log(y_hat) - (1-y)*np.log(1-y_hat))\n",
      "/tmp/ipykernel_42850/3350479766.py:23: RuntimeWarning: invalid value encountered in log\n",
      "  Loss.append(-y*np.log(y_hat) - (1-y)*np.log(1-y_hat))\n",
      "/tmp/ipykernel_42850/3350479766.py:23: RuntimeWarning: invalid value encountered in log\n",
      "  Loss.append(-y*np.log(y_hat) - (1-y)*np.log(1-y_hat))\n",
      "/tmp/ipykernel_42850/3350479766.py:23: RuntimeWarning: invalid value encountered in log\n",
      "  Loss.append(-y*np.log(y_hat) - (1-y)*np.log(1-y_hat))\n",
      "/tmp/ipykernel_42850/3350479766.py:23: RuntimeWarning: invalid value encountered in log\n",
      "  Loss.append(-y*np.log(y_hat) - (1-y)*np.log(1-y_hat))\n",
      "/tmp/ipykernel_42850/3350479766.py:23: RuntimeWarning: invalid value encountered in log\n",
      "  Loss.append(-y*np.log(y_hat) - (1-y)*np.log(1-y_hat))\n",
      "/tmp/ipykernel_42850/3350479766.py:23: RuntimeWarning: invalid value encountered in log\n",
      "  Loss.append(-y*np.log(y_hat) - (1-y)*np.log(1-y_hat))\n",
      "/tmp/ipykernel_42850/3350479766.py:23: RuntimeWarning: invalid value encountered in log\n",
      "  Loss.append(-y*np.log(y_hat) - (1-y)*np.log(1-y_hat))\n",
      "/tmp/ipykernel_42850/3350479766.py:23: RuntimeWarning: invalid value encountered in log\n",
      "  Loss.append(-y*np.log(y_hat) - (1-y)*np.log(1-y_hat))\n",
      "/tmp/ipykernel_42850/3350479766.py:23: RuntimeWarning: invalid value encountered in log\n",
      "  Loss.append(-y*np.log(y_hat) - (1-y)*np.log(1-y_hat))\n",
      "/tmp/ipykernel_42850/3350479766.py:23: RuntimeWarning: invalid value encountered in log\n",
      "  Loss.append(-y*np.log(y_hat) - (1-y)*np.log(1-y_hat))\n",
      "/tmp/ipykernel_42850/3350479766.py:23: RuntimeWarning: invalid value encountered in log\n",
      "  Loss.append(-y*np.log(y_hat) - (1-y)*np.log(1-y_hat))\n",
      "/tmp/ipykernel_42850/3350479766.py:23: RuntimeWarning: invalid value encountered in log\n",
      "  Loss.append(-y*np.log(y_hat) - (1-y)*np.log(1-y_hat))\n"
     ]
    },
    {
     "name": "stdout",
     "output_type": "stream",
     "text": [
      "Epoch -  41 Loss -  nan\n",
      "Epoch -  42 Loss -  nan\n",
      "Epoch -  43 Loss -  nan\n",
      "Epoch -  44 Loss -  nan\n",
      "Epoch -  45 Loss -  nan\n",
      "Epoch -  46 Loss -  nan\n",
      "Epoch -  47 Loss -  nan\n",
      "Epoch -  48 Loss -  nan\n",
      "Epoch -  49 Loss -  nan\n",
      "Epoch -  50 Loss -  nan\n"
     ]
    },
    {
     "name": "stderr",
     "output_type": "stream",
     "text": [
      "/tmp/ipykernel_42850/3350479766.py:23: RuntimeWarning: invalid value encountered in log\n",
      "  Loss.append(-y*np.log(y_hat) - (1-y)*np.log(1-y_hat))\n",
      "/tmp/ipykernel_42850/3350479766.py:23: RuntimeWarning: invalid value encountered in log\n",
      "  Loss.append(-y*np.log(y_hat) - (1-y)*np.log(1-y_hat))\n",
      "/tmp/ipykernel_42850/3350479766.py:23: RuntimeWarning: invalid value encountered in log\n",
      "  Loss.append(-y*np.log(y_hat) - (1-y)*np.log(1-y_hat))\n",
      "/tmp/ipykernel_42850/3350479766.py:23: RuntimeWarning: invalid value encountered in log\n",
      "  Loss.append(-y*np.log(y_hat) - (1-y)*np.log(1-y_hat))\n",
      "/tmp/ipykernel_42850/3350479766.py:23: RuntimeWarning: invalid value encountered in log\n",
      "  Loss.append(-y*np.log(y_hat) - (1-y)*np.log(1-y_hat))\n",
      "/tmp/ipykernel_42850/3350479766.py:23: RuntimeWarning: invalid value encountered in log\n",
      "  Loss.append(-y*np.log(y_hat) - (1-y)*np.log(1-y_hat))\n",
      "/tmp/ipykernel_42850/3350479766.py:23: RuntimeWarning: invalid value encountered in log\n",
      "  Loss.append(-y*np.log(y_hat) - (1-y)*np.log(1-y_hat))\n",
      "/tmp/ipykernel_42850/3350479766.py:23: RuntimeWarning: invalid value encountered in log\n",
      "  Loss.append(-y*np.log(y_hat) - (1-y)*np.log(1-y_hat))\n",
      "/tmp/ipykernel_42850/3350479766.py:23: RuntimeWarning: invalid value encountered in log\n",
      "  Loss.append(-y*np.log(y_hat) - (1-y)*np.log(1-y_hat))\n",
      "/tmp/ipykernel_42850/3350479766.py:23: RuntimeWarning: invalid value encountered in log\n",
      "  Loss.append(-y*np.log(y_hat) - (1-y)*np.log(1-y_hat))\n",
      "/tmp/ipykernel_42850/3350479766.py:23: RuntimeWarning: invalid value encountered in log\n",
      "  Loss.append(-y*np.log(y_hat) - (1-y)*np.log(1-y_hat))\n",
      "/tmp/ipykernel_42850/3350479766.py:23: RuntimeWarning: invalid value encountered in log\n",
      "  Loss.append(-y*np.log(y_hat) - (1-y)*np.log(1-y_hat))\n",
      "/tmp/ipykernel_42850/3350479766.py:23: RuntimeWarning: invalid value encountered in log\n",
      "  Loss.append(-y*np.log(y_hat) - (1-y)*np.log(1-y_hat))\n",
      "/tmp/ipykernel_42850/3350479766.py:23: RuntimeWarning: invalid value encountered in log\n",
      "  Loss.append(-y*np.log(y_hat) - (1-y)*np.log(1-y_hat))\n",
      "/tmp/ipykernel_42850/3350479766.py:23: RuntimeWarning: invalid value encountered in log\n",
      "  Loss.append(-y*np.log(y_hat) - (1-y)*np.log(1-y_hat))\n",
      "/tmp/ipykernel_42850/3350479766.py:23: RuntimeWarning: invalid value encountered in log\n",
      "  Loss.append(-y*np.log(y_hat) - (1-y)*np.log(1-y_hat))\n",
      "/tmp/ipykernel_42850/3350479766.py:23: RuntimeWarning: invalid value encountered in log\n",
      "  Loss.append(-y*np.log(y_hat) - (1-y)*np.log(1-y_hat))\n",
      "/tmp/ipykernel_42850/3350479766.py:23: RuntimeWarning: invalid value encountered in log\n",
      "  Loss.append(-y*np.log(y_hat) - (1-y)*np.log(1-y_hat))\n",
      "/tmp/ipykernel_42850/3350479766.py:23: RuntimeWarning: invalid value encountered in log\n",
      "  Loss.append(-y*np.log(y_hat) - (1-y)*np.log(1-y_hat))\n",
      "/tmp/ipykernel_42850/3350479766.py:23: RuntimeWarning: invalid value encountered in log\n",
      "  Loss.append(-y*np.log(y_hat) - (1-y)*np.log(1-y_hat))\n",
      "/tmp/ipykernel_42850/3350479766.py:23: RuntimeWarning: invalid value encountered in log\n",
      "  Loss.append(-y*np.log(y_hat) - (1-y)*np.log(1-y_hat))\n",
      "/tmp/ipykernel_42850/3350479766.py:23: RuntimeWarning: invalid value encountered in log\n",
      "  Loss.append(-y*np.log(y_hat) - (1-y)*np.log(1-y_hat))\n",
      "/tmp/ipykernel_42850/3350479766.py:23: RuntimeWarning: invalid value encountered in log\n",
      "  Loss.append(-y*np.log(y_hat) - (1-y)*np.log(1-y_hat))\n",
      "/tmp/ipykernel_42850/3350479766.py:23: RuntimeWarning: invalid value encountered in log\n",
      "  Loss.append(-y*np.log(y_hat) - (1-y)*np.log(1-y_hat))\n",
      "/tmp/ipykernel_42850/3350479766.py:23: RuntimeWarning: invalid value encountered in log\n",
      "  Loss.append(-y*np.log(y_hat) - (1-y)*np.log(1-y_hat))\n",
      "/tmp/ipykernel_42850/3350479766.py:23: RuntimeWarning: invalid value encountered in log\n",
      "  Loss.append(-y*np.log(y_hat) - (1-y)*np.log(1-y_hat))\n",
      "/tmp/ipykernel_42850/3350479766.py:23: RuntimeWarning: invalid value encountered in log\n",
      "  Loss.append(-y*np.log(y_hat) - (1-y)*np.log(1-y_hat))\n",
      "/tmp/ipykernel_42850/3350479766.py:23: RuntimeWarning: invalid value encountered in log\n",
      "  Loss.append(-y*np.log(y_hat) - (1-y)*np.log(1-y_hat))\n",
      "/tmp/ipykernel_42850/3350479766.py:23: RuntimeWarning: invalid value encountered in log\n",
      "  Loss.append(-y*np.log(y_hat) - (1-y)*np.log(1-y_hat))\n",
      "/tmp/ipykernel_42850/3350479766.py:23: RuntimeWarning: invalid value encountered in log\n",
      "  Loss.append(-y*np.log(y_hat) - (1-y)*np.log(1-y_hat))\n",
      "/tmp/ipykernel_42850/3350479766.py:23: RuntimeWarning: invalid value encountered in log\n",
      "  Loss.append(-y*np.log(y_hat) - (1-y)*np.log(1-y_hat))\n",
      "/tmp/ipykernel_42850/3350479766.py:23: RuntimeWarning: invalid value encountered in log\n",
      "  Loss.append(-y*np.log(y_hat) - (1-y)*np.log(1-y_hat))\n",
      "/tmp/ipykernel_42850/3350479766.py:23: RuntimeWarning: invalid value encountered in log\n",
      "  Loss.append(-y*np.log(y_hat) - (1-y)*np.log(1-y_hat))\n",
      "/tmp/ipykernel_42850/3350479766.py:23: RuntimeWarning: invalid value encountered in log\n",
      "  Loss.append(-y*np.log(y_hat) - (1-y)*np.log(1-y_hat))\n",
      "/tmp/ipykernel_42850/3350479766.py:23: RuntimeWarning: invalid value encountered in log\n",
      "  Loss.append(-y*np.log(y_hat) - (1-y)*np.log(1-y_hat))\n",
      "/tmp/ipykernel_42850/3350479766.py:23: RuntimeWarning: invalid value encountered in log\n",
      "  Loss.append(-y*np.log(y_hat) - (1-y)*np.log(1-y_hat))\n",
      "/tmp/ipykernel_42850/3350479766.py:23: RuntimeWarning: invalid value encountered in log\n",
      "  Loss.append(-y*np.log(y_hat) - (1-y)*np.log(1-y_hat))\n",
      "/tmp/ipykernel_42850/3350479766.py:23: RuntimeWarning: invalid value encountered in log\n",
      "  Loss.append(-y*np.log(y_hat) - (1-y)*np.log(1-y_hat))\n",
      "/tmp/ipykernel_42850/3350479766.py:23: RuntimeWarning: invalid value encountered in log\n",
      "  Loss.append(-y*np.log(y_hat) - (1-y)*np.log(1-y_hat))\n",
      "/tmp/ipykernel_42850/3350479766.py:23: RuntimeWarning: invalid value encountered in log\n",
      "  Loss.append(-y*np.log(y_hat) - (1-y)*np.log(1-y_hat))\n"
     ]
    },
    {
     "data": {
      "text/plain": [
       "{'W1': array([[0.17954014, 0.46964122],\n",
       "        [0.17987039, 0.51504507]]),\n",
       " 'b1': array([[0.02614053],\n",
       "        [0.02868206]]),\n",
       " 'W2': array([[0.4102805 ],\n",
       "        [0.49222633]]),\n",
       " 'b2': array([[0.49344226]])}"
      ]
     },
     "execution_count": 24,
     "metadata": {},
     "output_type": "execute_result"
    }
   ],
   "source": [
    "# epochs implementation\n",
    "\n",
    "parameters = initialize_parameters([2,2,1])\n",
    "epochs = 50\n",
    "\n",
    "for i in range(epochs):\n",
    "\n",
    "  Loss = []\n",
    "\n",
    "  for j in range(df.shape[0]):\n",
    "\n",
    "    X = df[['cgpa', 'profile_score']].values[j].reshape(2,1) # Shape(no of features, no. of training example)\n",
    "    y = df[['lpa']].values[j][0]\n",
    "\n",
    "    # Parameter initialization\n",
    "\n",
    "\n",
    "    y_hat,A1 = L_layer_forward(X,parameters)\n",
    "    y_hat = y_hat[0][0]\n",
    "\n",
    "    update_parameters(parameters,y,y_hat,A1,X)\n",
    "\n",
    "    Loss.append(-y*np.log(y_hat) - (1-y)*np.log(1-y_hat))\n",
    "\n",
    "  print('Epoch - ',i+1,'Loss - ',np.array(Loss).mean())\n",
    "\n",
    "parameters"
   ]
  },
  {
   "cell_type": "code",
   "execution_count": null,
   "id": "3e376778",
   "metadata": {},
   "outputs": [],
   "source": []
  }
 ],
 "metadata": {
  "kernelspec": {
   "display_name": "Python 3",
   "language": "python",
   "name": "python3"
  },
  "language_info": {
   "codemirror_mode": {
    "name": "ipython",
    "version": 3
   },
   "file_extension": ".py",
   "mimetype": "text/x-python",
   "name": "python",
   "nbconvert_exporter": "python",
   "pygments_lexer": "ipython3",
   "version": "3.11.9"
  }
 },
 "nbformat": 4,
 "nbformat_minor": 5
}
