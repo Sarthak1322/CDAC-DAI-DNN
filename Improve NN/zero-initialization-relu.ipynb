{
 "cells": [
  {
   "cell_type": "code",
   "execution_count": null,
   "id": "2831b668",
   "metadata": {},
   "outputs": [],
   "source": []
  },
  {
   "cell_type": "code",
   "execution_count": null,
   "id": "e9e78627",
   "metadata": {},
   "outputs": [],
   "source": [
    "import numpy as np\n",
    "import pandas as pd\n",
    "import matplotlib.pyplot as plt\n",
    "\n",
    "\n",
    "\n",
    "df = pd.read_csv('/content/ushape.csv')\n",
    "\n",
    "df.head()\n",
    "\n",
    "plt.scatter(df['X'],df['Y'],c=df['class'])\n",
    "\n",
    "X = df.iloc[:,0:2].values\n",
    "y = df.iloc[:,-1].values\n",
    "\n",
    "import tensorflow\n",
    "from tensorflow import keras\n",
    "from keras import Sequential\n",
    "from keras.layers import Dense\n",
    "\n",
    "model = Sequential()\n",
    "\n",
    "model.add(Dense(2,activation='relu',input_dim=2))\n",
    "model.add(Dense(1,activation='sigmoid'))\n",
    "\n",
    "model.summary()\n",
    "\n",
    "# Set parameters to 0\n",
    "model.get_weights()\n",
    "\n",
    "initial_weights = model.get_weights()\n",
    "\n",
    "initial_weights[0] = np.zeros(model.get_weights()[0].shape)*0.5\n",
    "initial_weights[1] = np.zeros(model.get_weights()[1].shape)*0.5\n",
    "initial_weights[2] = np.zeros(model.get_weights()[2].shape)*0.5\n",
    "initial_weights[3] = np.zeros(model.get_weights()[3].shape)*0.5\n",
    "\n",
    "model.set_weights(initial_weights)\n",
    "\n",
    "model.get_weights()\n",
    "\n",
    "model.compile(loss='binary_crossentropy',optimizer='adam',metrics=['accuracy'])\n",
    "\n",
    "history = model.fit(X,y,epochs=100,validation_split=0.2)\n",
    "\n",
    "model.get_weights()\n",
    "\n",
    "from mlxtend.plotting import plot_decision_regions\n",
    "plot_decision_regions(X,y.astype('int'), clf=model, legend=2)\n",
    "\n",
    "\n"
   ]
  }
 ],
 "metadata": {
  "kernelspec": {
   "display_name": "Python 3",
   "language": "python",
   "name": "python3"
  },
  "language_info": {
   "codemirror_mode": {
    "name": "ipython",
    "version": 3
   },
   "file_extension": ".py",
   "mimetype": "text/x-python",
   "name": "python",
   "nbconvert_exporter": "python",
   "pygments_lexer": "ipython3",
   "version": "3.11.9"
  }
 },
 "nbformat": 4,
 "nbformat_minor": 5
}
